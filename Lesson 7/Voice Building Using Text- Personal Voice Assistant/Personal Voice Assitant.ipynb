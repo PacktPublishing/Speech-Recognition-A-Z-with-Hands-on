{
 "cells": [
  {
   "cell_type": "code",
   "execution_count": null,
   "metadata": {},
   "outputs": [],
   "source": [
    "#Import Packages\n",
    "import speech_recognition as sr  \n",
    "import playsound # to play saved mp3 file \n",
    "from gtts import gTTS # google text to speech \n",
    "import os # to save/open files \n",
    "import wolframalpha # to calculate strings into formula \n",
    "from selenium import webdriver # to control browser operations "
   ]
  },
  {
   "cell_type": "code",
   "execution_count": null,
   "metadata": {},
   "outputs": [],
   "source": [
    "#Saving the text to audio files\n",
    "num = 1\n",
    "def assistant_speaks(output): \n",
    "    global num \n",
    "  \n",
    "    # num to rename every audio file  \n",
    "    # with different name to remove ambiguity \n",
    "    num += 1\n",
    "    print(\"PerSon : \", output) \n",
    "  \n",
    "    toSpeak = gTTS(text = output, lang ='en', slow = False) \n",
    "    # saving the audio file given by google text to speech \n",
    "    file = \"D:/Speech Rec/Voice Building Using Text- Personal Voice Assistant Lesson 4/\"+str(num)+\".mp3\"  \n",
    "    toSpeak.save(file) \n",
    "      \n",
    "    # playsound package is used to play the same file. \n",
    "    playsound.playsound(file, True)  \n",
    "    os.remove(file) \n"
   ]
  },
  {
   "cell_type": "code",
   "execution_count": null,
   "metadata": {},
   "outputs": [],
   "source": [
    "#get audio file and return as function oUTPUT\n",
    "def get_audio(): \n",
    "  \n",
    "    rObject = sr.Recognizer() \n",
    "    audio = '' \n",
    "  \n",
    "    with sr.Microphone() as source: \n",
    "        print(\"Speak...\") \n",
    "          \n",
    "        # recording the audio using speech recognition \n",
    "        audio = rObject.listen(source, phrase_time_limit = 5)  \n",
    "    print(\"Stop.\") # limit 5 secs \n",
    "  \n",
    "    try: \n",
    "  \n",
    "        text = rObject.recognize_google(audio, language ='en-US') \n",
    "        print(\"You : \", text) \n",
    "        return text \n",
    "  \n",
    "    except: \n",
    "  \n",
    "        assistant_speaks(\"Could not understand your audio, PLease try again !\") \n",
    "        return 0"
   ]
  },
  {
   "cell_type": "code",
   "execution_count": null,
   "metadata": {},
   "outputs": [],
   "source": [
    "#Write a main Function\n",
    "# Driver Code \n",
    "if __name__ == \"__main__\": \n",
    "    assistant_speaks(\"What's your name, Human?\") \n",
    "    name ='Human'\n",
    "    name = get_audio() \n",
    "    assistant_speaks(\"Hello, \" + name + '.') \n",
    "      \n",
    "    while(1): \n",
    "  \n",
    "        assistant_speaks(\"What can i do for you?\") \n",
    "        text = get_audio().lower() \n",
    "  \n",
    "        if text == 0: \n",
    "            continue\n",
    "  \n",
    "        if \"exit\" in str(text) or \"bye\" in str(text) or \"sleep\" in str(text): \n",
    "            assistant_speaks(\"Ok bye, \"+ name+'.') \n",
    "            break\n",
    "  \n",
    "        # calling process text to process the query \n",
    "        process_text(text) "
   ]
  },
  {
   "cell_type": "code",
   "execution_count": null,
   "metadata": {},
   "outputs": [],
   "source": []
  }
 ],
 "metadata": {
  "kernelspec": {
   "display_name": "Python 3",
   "language": "python",
   "name": "python3"
  },
  "language_info": {
   "codemirror_mode": {
    "name": "ipython",
    "version": 3
   },
   "file_extension": ".py",
   "mimetype": "text/x-python",
   "name": "python",
   "nbconvert_exporter": "python",
   "pygments_lexer": "ipython3",
   "version": "3.7.0"
  }
 },
 "nbformat": 4,
 "nbformat_minor": 2
}
