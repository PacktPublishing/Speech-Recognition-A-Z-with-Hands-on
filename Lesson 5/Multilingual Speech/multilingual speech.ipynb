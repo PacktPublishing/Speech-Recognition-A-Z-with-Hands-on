{
 "cells": [
  {
   "cell_type": "code",
   "execution_count": 1,
   "metadata": {},
   "outputs": [],
   "source": [
    "#import Packages\n",
    "from gtts import gTTS"
   ]
  },
  {
   "cell_type": "code",
   "execution_count": 2,
   "metadata": {},
   "outputs": [],
   "source": [
    "#Write 'hello' in English to audio file\n",
    "tts=gTTS('hello',lang='en')\n",
    "tts.save('D:/Speech Rec/multilingual speech - Lesson 5/hello.mp3')"
   ]
  },
  {
   "cell_type": "code",
   "execution_count": 4,
   "metadata": {},
   "outputs": [],
   "source": [
    "#Write 'hello bonjour' in english & then french to 'hello_bonjour'\n",
    "tts_en=gTTS('hello',lang='en')\n",
    "tts_fr=gTTS('bonjour',lang='fr')\n",
    "with open('D:/Speech Rec/multilingual speech - Lesson 5/hello_bonjour.mp3','wb') as f:\n",
    "    tts_en.write_to_fp(f)\n",
    "    tts_fr.write_to_fp(f)"
   ]
  },
  {
   "cell_type": "code",
   "execution_count": null,
   "metadata": {},
   "outputs": [],
   "source": []
  }
 ],
 "metadata": {
  "kernelspec": {
   "display_name": "Python 3",
   "language": "python",
   "name": "python3"
  },
  "language_info": {
   "codemirror_mode": {
    "name": "ipython",
    "version": 3
   },
   "file_extension": ".py",
   "mimetype": "text/x-python",
   "name": "python",
   "nbconvert_exporter": "python",
   "pygments_lexer": "ipython3",
   "version": "3.7.0"
  }
 },
 "nbformat": 4,
 "nbformat_minor": 2
}
